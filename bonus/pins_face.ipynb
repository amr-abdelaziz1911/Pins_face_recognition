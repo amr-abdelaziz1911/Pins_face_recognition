{
 "cells": [
  {
   "cell_type": "markdown",
   "metadata": {},
   "source": [
    ">> Amr Abdelaziz Attia Mohamed 7447\n",
    "\n"
   ]
  },
  {
   "cell_type": "markdown",
   "metadata": {},
   "source": [
    "## Pins face recognition\n",
    "\n",
    "Some needed imports for the code"
   ]
  },
  {
   "cell_type": "code",
   "execution_count": 13,
   "metadata": {},
   "outputs": [],
   "source": [
    "import os\n",
    "import cv2\n",
    "import numpy as np\n",
    "import tensorflow as tf\n",
    "from tensorflow.keras.preprocessing.image import ImageDataGenerator\n",
    "from tensorflow.keras.models import Sequential\n",
    "from tensorflow.keras.layers import Dense, Dropout, BatchNormalization, Flatten\n",
    "from tensorflow.keras.callbacks import EarlyStopping, ReduceLROnPlateau\n",
    "from sklearn.metrics import classification_report, confusion_matrix\n",
    "import matplotlib.pyplot as plt\n",
    "import seaborn as sns"
   ]
  },
  {
   "cell_type": "markdown",
   "metadata": {},
   "source": [
    "reading the zip file and making classification"
   ]
  },
  {
   "cell_type": "code",
   "execution_count": 14,
   "metadata": {},
   "outputs": [],
   "source": [
    "import zipfile\n",
    "from google.colab import files\n",
    "# Step 2: Upload the ZIP file\n",
    "print(\"Please upload the dataset ZIP file.\")\n",
    "# zip_file = 'C:/Users/amrka/Desktop/Multiclass Classification with Fashion MNIST.zip'\n",
    "uploaded = files.upload()\n",
    "# Step 3: Unzip the uploaded file\n",
    "zip_file = list(uploaded.keys())[0]  # Get the name of the uploaded file\n",
    "print(f\"Unzipping {zip_file}...\")\n",
    "\n",
    "# Extract to a specified directory (you can change '/content/dataset' if needed)\n",
    "with zipfile.ZipFile(zip_file, 'r') as zip_ref:\n",
    "    zip_ref.extractall('/content/dataset')\n",
    "\n",
    "print(\"Unzipping completed.\")\n",
    "\n",
    "# Step 4: Set the data directory\n",
    "data_dir = '/content/dataset'  # Adjust this path if your dataset is in a subfolder\n",
    "\n",
    "# Path to dataset directory and face detection model\n",
    "# data_dir = 'C:/Users/amrka/Desktop/bonus/105_classes_pins_dataset'  # Update with the dataset path\n",
    "face_model_path = cv2.data.haarcascades + 'haarcascade_frontalface_default.xml'\n",
    "face_cascade = cv2.CascadeClassifier(face_model_path)\n",
    "# # Path to dataset directory and face detection model\n",
    "# data_dir = '105_classes_pins_dataset/'  # Update with the dataset path\n",
    "# face_model_path = cv2.data.haarcascades + 'haarcascade_frontalface_default.xml'\n",
    "# face_cascade = cv2.CascadeClassifier(face_model_path)"
   ]
  },
  {
   "cell_type": "markdown",
   "metadata": {},
   "source": [
    "Make a function that crop the face on the needed area only and resize the image again"
   ]
  },
  {
   "cell_type": "code",
   "execution_count": 15,
   "metadata": {},
   "outputs": [],
   "source": [
    "def crop_face(image):\n",
    "    # Ensure the image is in the correct format (uint8)\n",
    "    if image.dtype != np.uint8:\n",
    "        image = (image * 255).astype(np.uint8)\n",
    "\n",
    "    gray = cv2.cvtColor(image, cv2.COLOR_BGR2GRAY)\n",
    "    faces = face_cascade.detectMultiScale(gray, scaleFactor=1.1, minNeighbors=5, minSize=(30, 30))\n",
    "\n",
    "    if len(faces) > 0:\n",
    "        x, y, w, h = faces[0]\n",
    "        cropped_face = image[y:y+h, x:x+w]  # Crop the face\n",
    "        # Resize cropped face to 100x100\n",
    "        return cv2.resize(cropped_face, (100, 100))\n",
    "    \n",
    "    # Return a blank image if no face is detected (100x100)\n",
    "    return np.zeros((100, 100, 3), dtype=np.uint8)  # Blank image\n",
    "\n"
   ]
  },
  {
   "cell_type": "markdown",
   "metadata": {},
   "source": [
    "Class that detect the face and its dimentions in the image"
   ]
  },
  {
   "cell_type": "code",
   "execution_count": 16,
   "metadata": {},
   "outputs": [],
   "source": [
    "class CustomDataGenerator(ImageDataGenerator):\n",
    "    def flow_from_directory(self, directory, *args, **kwargs):\n",
    "        generator = super().flow_from_directory(directory, *args, **kwargs)\n",
    "        for batch_x, batch_y in generator:\n",
    "            # Check each image before cropping\n",
    "            batch_cropped = np.array([crop_face(img) for img in batch_x])\n",
    "            yield batch_cropped, batch_y\n"
   ]
  },
  {
   "cell_type": "markdown",
   "metadata": {},
   "source": [
    "Make error if file directory not exists"
   ]
  },
  {
   "cell_type": "code",
   "execution_count": 17,
   "metadata": {},
   "outputs": [],
   "source": [
    "# Check if the dataset directory exists\n",
    "if not os.path.exists(data_dir):\n",
    "    raise ValueError(\"Dataset directory does not exist. Please check the path.\")"
   ]
  },
  {
   "cell_type": "markdown",
   "metadata": {},
   "source": [
    "- Creating a regular image data generator\n",
    "\n",
    "- Counting the classes we have in the dataset\n",
    "\n",
    "- Creating the train generator\n",
    "\n",
    "- Creating the validate generator"
   ]
  },
  {
   "cell_type": "code",
   "execution_count": 18,
   "metadata": {},
   "outputs": [
    {
     "name": "stdout",
     "output_type": "stream",
     "text": [
      "Found 17534 images belonging to 105 classes.\n"
     ]
    }
   ],
   "source": [
    "# Create a regular ImageDataGenerator to get class indices\n",
    "base_datagen = ImageDataGenerator(rescale=1.0 / 255, validation_split=0.2)\n",
    "\n",
    "# Use this generator to get class indices\n",
    "class_generator = base_datagen.flow_from_directory(\n",
    "    data_dir,\n",
    "    target_size=(100, 100),\n",
    "    batch_size=1,  # Using batch size of 1 just to get class indices\n",
    "    class_mode='categorical',\n",
    "    shuffle=False  # Don't shuffle to keep class order\n",
    ")\n",
    "\n",
    "# Now we can get the number of classes from this generator\n",
    "num_classes = len(class_generator.class_indices)\n",
    "\n",
    "# Now create your CustomDataGenerator for training and validation\n",
    "train_datagen = CustomDataGenerator(\n",
    "    rescale=1.0 / 255,\n",
    "    validation_split=0.2,\n",
    "    rotation_range=20,\n",
    "    width_shift_range=0.2,\n",
    "    height_shift_range=0.2,\n",
    "    zoom_range=0.2,\n",
    "    horizontal_flip=True\n",
    ")\n",
    "\n",
    "# Create the training generator\n",
    "train_generator = train_datagen.flow_from_directory(\n",
    "    data_dir,\n",
    "    target_size=(100, 100),\n",
    "    batch_size=32,\n",
    "    class_mode='categorical',\n",
    "    subset='training'\n",
    ")\n",
    "\n",
    "# Create the validation generator\n",
    "val_generator = train_datagen.flow_from_directory(\n",
    "    data_dir,\n",
    "    target_size=(100, 100),\n",
    "    batch_size=32,\n",
    "    class_mode='categorical',\n",
    "    subset='validation'\n",
    ")"
   ]
  },
  {
   "cell_type": "markdown",
   "metadata": {},
   "source": [
    "- Generating the model by flatten the image to 1D vector \n",
    "\n",
    "    - Make a relu activation function in all hidden layer \n",
    "\n",
    "    - Make softmax activation function in output layer\n",
    "    \n",
    "    - Make BatchNormalization between each 2 layers\n",
    "    \n",
    "    - Make dropout after each layer to decrease the number of neurons entering the next layer\n",
    "\n",
    "- Compile the model using \n",
    "    - adam as optimizer\n",
    "    - categorical_crossentropy as loss function\n",
    "    - accuracy for metrics"
   ]
  },
  {
   "cell_type": "code",
   "execution_count": 19,
   "metadata": {},
   "outputs": [],
   "source": [
    "model = Sequential([\n",
    "    Flatten(input_shape=(100, 100, 3)),\n",
    "    Dense(512, activation='relu'),\n",
    "    BatchNormalization(),\n",
    "    Dropout(0.5),\n",
    "    Dense(256, activation='relu'),\n",
    "    BatchNormalization(),\n",
    "    Dropout(0.5),\n",
    "    Dense(128, activation='relu'),\n",
    "    BatchNormalization(),\n",
    "    Dropout(0.5),\n",
    "    Dense(num_classes, activation='softmax')\n",
    "])\n",
    "\n",
    "# Compile the model\n",
    "model.compile(\n",
    "    optimizer=tf.keras.optimizers.Adam(),\n",
    "    loss='categorical_crossentropy',\n",
    "    metrics=['accuracy']\n",
    ")"
   ]
  },
  {
   "cell_type": "markdown",
   "metadata": {},
   "source": [
    "- Define an early_stop to stop when the accuracy become stable\n",
    "\n",
    "- Define a Reduce_lr to decrease the learning rate when we come near the local minimum"
   ]
  },
  {
   "cell_type": "code",
   "execution_count": 20,
   "metadata": {},
   "outputs": [],
   "source": [
    "# Define callbacks for early stopping and learning rate reduction\n",
    "early_stopping = EarlyStopping(monitor='val_loss', patience=5, restore_best_weights=True)\n",
    "reduce_lr = ReduceLROnPlateau(monitor='val_loss', factor=0.5, patience=3)"
   ]
  },
  {
   "cell_type": "markdown",
   "metadata": {},
   "source": [
    "Train the model "
   ]
  },
  {
   "cell_type": "code",
   "execution_count": null,
   "metadata": {},
   "outputs": [
    {
     "name": "stdout",
     "output_type": "stream",
     "text": [
      "Found 14071 images belonging to 105 classes.\n",
      "Epoch 1/30\n",
      " 141205/Unknown - 51966s 368ms/step - loss: 4.4400 - accuracy: 0.0279"
     ]
    }
   ],
   "source": [
    "# Train the model\n",
    "history = model.fit(\n",
    "    train_generator,\n",
    "    validation_data=val_generator,\n",
    "    epochs=30,\n",
    "    callbacks=[early_stopping, reduce_lr]\n",
    ")"
   ]
  },
  {
   "attachments": {
    "image.png": {
     "image/png": "[encoded data removed]"
    }
   },
   "cell_type": "markdown",
   "metadata": {},
   "source": [
    "# An image of time it take for 1 epoch \n",
    "\n",
    "![image.png](attachment:image.png)"
   ]
  },
  {
   "cell_type": "markdown",
   "metadata": {},
   "source": [
    "- Printing the accuracy \n",
    "\n",
    "- Printing classification_report\n",
    "\n",
    "- Plotting the confustion matrix\n",
    "\n",
    "- Plotting the loss curve\n",
    "\n",
    "- Plotting the accuracy curve"
   ]
  },
  {
   "cell_type": "code",
   "execution_count": null,
   "metadata": {},
   "outputs": [],
   "source": [
    "# Evaluate the model\n",
    "val_loss, val_accuracy = model.evaluate(val_generator)\n",
    "print(f\"Validation Accuracy: {val_accuracy:.2f}\")\n",
    "\n",
    "# Classification report and confusion matrix\n",
    "y_true = val_generator.classes\n",
    "y_pred = np.argmax(model.predict(val_generator), axis=1)\n",
    "\n",
    "print(\"\\nClassification Report:\\n\", classification_report(y_true, y_pred, target_names=val_generator.class_indices.keys()))\n",
    "cm = confusion_matrix(y_true, y_pred)\n",
    "\n",
    "plt.figure(figsize=(10, 8))\n",
    "sns.heatmap(cm, annot=True, fmt='d', cmap='Blues', xticklabels=val_generator.class_indices.keys(), yticklabels=val_generator.class_indices.keys())\n",
    "plt.xlabel(\"Predicted\")\n",
    "plt.ylabel(\"Actual\")\n",
    "plt.title(\"Confusion Matrix\")\n",
    "plt.show()\n",
    "\n",
    "# Plot training and validation loss/accuracy curves\n",
    "plt.figure(figsize=(12, 5))\n",
    "plt.subplot(1, 2, 1)\n",
    "plt.plot(history.history['loss'], label='Training Loss')\n",
    "plt.plot(history.history['val_loss'], label='Validation Loss')\n",
    "plt.legend()\n",
    "plt.title(\"Loss Curves\")\n",
    "\n",
    "plt.subplot(1, 2, 2)\n",
    "plt.plot(history.history['accuracy'], label='Training Accuracy')\n",
    "plt.plot(history.history['val_accuracy'], label='Validation Accuracy')\n",
    "plt.legend()\n",
    "plt.title(\"Accuracy Curves\")\n",
    "\n",
    "plt.show()"
   ]
  },
  {
   "cell_type": "code",
   "execution_count": null,
   "metadata": {},
   "outputs": [],
   "source": []
  }
 ],
 "metadata": {
  "kernelspec": {
   "display_name": "nlp_env",
   "language": "python",
   "name": "python3"
  },
  "language_info": {
   "codemirror_mode": {
    "name": "ipython",
    "version": 3
   },
   "file_extension": ".py",
   "mimetype": "text/x-python",
   "name": "python",
   "nbconvert_exporter": "python",
   "pygments_lexer": "ipython3",
   "version": "3.11.4"
  }
 },
 "nbformat": 4,
 "nbformat_minor": 2
}
